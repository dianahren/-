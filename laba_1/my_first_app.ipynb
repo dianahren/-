{
 "cells": [
  {
   "cell_type": "code",
   "execution_count": 2,
   "metadata": {},
   "outputs": [
    {
     "name": "stdout",
     "output_type": "stream",
     "text": [
      "Diana start programming at 2022-10-24 21:15:33.386118\n"
     ]
    }
   ],
   "source": [
    "from datetime import datetime\n",
    "name = \"Diana\"\n",
    "\n",
    "print(f\"{name} start programming at {datetime.now()}\")"
   ]
  },
  {
   "cell_type": "markdown",
   "metadata": {},
   "source": [
    "### Моя перша програма на мові Python "
   ]
  }
 ],
 "metadata": {
  "kernelspec": {
   "display_name": "Python 3.10.6 64-bit",
   "language": "python",
   "name": "python3"
  },
  "language_info": {
   "codemirror_mode": {
    "name": "ipython",
    "version": 3
   },
   "file_extension": ".py",
   "mimetype": "text/x-python",
   "name": "python",
   "nbconvert_exporter": "python",
   "pygments_lexer": "ipython3",
   "version": "3.10.6"
  },
  "orig_nbformat": 4,
  "vscode": {
   "interpreter": {
    "hash": "6ef694b4dbddfc11dfa47724275a290eb95e4b5edd1a06cb6f42d64c2e7f5df6"
   }
  }
 },
 "nbformat": 4,
 "nbformat_minor": 2
}
