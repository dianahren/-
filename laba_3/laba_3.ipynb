{
 "cells": [
  {
   "cell_type": "markdown",
   "metadata": {},
   "source": [
    "Базовий клас та поняття ООП"
   ]
  },
  {
   "cell_type": "code",
   "execution_count": null,
   "metadata": {},
   "outputs": [],
   "source": [
    "a = \"Це стрічка\"\n",
    "print(type(a))\n",
    "\n",
    "class MyFirstClass:\n",
    "    pass\n",
    "\n",
    "b = MyFirstClass()\n",
    "print(type(b))"
   ]
  },
  {
   "cell_type": "markdown",
   "metadata": {},
   "source": [
    "Робота з даними та з обєктами класів"
   ]
  },
  {
   "cell_type": "code",
   "execution_count": 2,
   "metadata": {},
   "outputs": [
    {
     "name": "stdout",
     "output_type": "stream",
     "text": [
      "Я маю тваринку Собака яку звати Мая яка живе в мене 2 рік та інколи не слухняна False\n",
      "Я маю тваринку Кіт яку звати Буся яка живе в мене 3 рік та інколи не слухняна True\n",
      "Я маю тваринку Хомяк яку звати Гаррі яка живе в мене 0.6 рік та інколи не слухняна True\n",
      "------------- Тут починається ООП\n",
      "Це конструктор: Я маю тваринку Собака з імям Мая\n",
      "Це конструктор: Я маю тваринку Мишка з імям Зірка\n",
      "Це конструктор: Я маю тваринку Кіт з імям Буся\n",
      "Це конструктор: Я маю тваринку Хомяк з імям Гаррі\n",
      "Яка тваринка <__main__.MyAnimals object at 0x000001FFCEB78EB0> ? а як тепер взнати її імя?\n"
     ]
    }
   ],
   "source": [
    "animal_type = [\"Собака\", \"Кіт\", \"Хомяк\"]\n",
    "name = [\"Мая\", \"Буся\", \"Гаррі\"]\n",
    "age = [2, 3, 0.6]\n",
    "has_fleas = [False, True, True]\n",
    "\n",
    "for i in range(3):\n",
    "    print(f\"Я маю тваринку {animal_type[i]} яку звати {name[i]} яка живе в мене {age[i]} рік та інколи не слухняна {has_fleas[i]}\")\n",
    "\n",
    "\n",
    "print(\"------------- Тут починається ООП\")\n",
    "class MyAnimals:\n",
    "    def __init__(self, animal_type, name) -> None:\n",
    "        print(f\"Це конструктор: Я маю тваринку {animal_type} з імям {name}\")\n",
    "        \n",
    "\n",
    "a1 = MyAnimals(\"Собака\", \"Мая\")\n",
    "a2 = MyAnimals(\"Мишка\", \"Зірка\")\n",
    "a3 = MyAnimals(\"Кіт\", \"Буся\")\n",
    "a4 = MyAnimals(\"Хомяк\", \"Гаррі\")\n",
    "\n",
    "print(f\"Яка тваринка {a3} ? а як тепер взнати її імя?\")\n"
   ]
  },
  {
   "cell_type": "markdown",
   "metadata": {},
   "source": [
    "Робота з атрибутами"
   ]
  },
  {
   "cell_type": "code",
   "execution_count": 4,
   "metadata": {},
   "outputs": [
    {
     "name": "stdout",
     "output_type": "stream",
     "text": [
      "Моя тваринка Собака має імя Мая який живе в мене >> Не знаю їх вік << років\n",
      "Моя тваринка Мишка має імя Зірка який живе в мене >> Не знаю їх вік << років\n",
      "Моя тваринка Кіт має імя Буся який живе в мене 3 років\n",
      "Моя тваринка Хомяк має імя Гаррі який живе в мене 0.6 років\n"
     ]
    }
   ],
   "source": [
    "class MyAnimals:\n",
    "    def __init__(self, an_t, name, age = None) -> None:\n",
    "        self.animal_type = an_t \n",
    "        self.name = name\n",
    "        self.age = \">> Не знаю їх вік <<\" if age == None else age\n",
    "        \n",
    "\n",
    "animals = [MyAnimals(\"Собака\", \"Мая\"), MyAnimals(\"Мишка\", \"Зірка\"), MyAnimals(\"Кіт\", \"Буся\", 3), MyAnimals(\"Хомяк\", \"Гаррі\", 0.6)]\n",
    "\n",
    "for animal in animals:\n",
    "    print(f\"Моя тваринка {animal.animal_type} має імя {animal.name} який живе в мене {animal.age} років\")"
   ]
  },
  {
   "cell_type": "markdown",
   "metadata": {},
   "source": [
    "Методи класу"
   ]
  },
  {
   "cell_type": "code",
   "execution_count": 5,
   "metadata": {},
   "outputs": [
    {
     "name": "stdout",
     "output_type": "stream",
     "text": [
      "Cобака не вміє говорити |||| Кіт каже Мяув\n",
      "Якби моя тваринка Кіт була людиною їй було б: 2 років і вона б ще жила 15 років\n",
      "Cобака не вміє говорити\n",
      "Cобака не вміє говорити\n"
     ]
    }
   ],
   "source": [
    "class MyAnimals:\n",
    "    def __init__(self, an_t, name, age = None) -> None:\n",
    "        self.animal_type = an_t \n",
    "        self.name = name\n",
    "        self.age = \">> Не знаю їх вік <<\" if age == None else age\n",
    "\n",
    "    def speak(self):\n",
    "        if self.animal_type == \"Кіт\":\n",
    "            return \"Кіт каже Мяув\"\n",
    "        elif self.animal_type == \"Собака\":\n",
    "            return \"Собака каже Гавв\"\n",
    "        else:\n",
    "            return f\"{self.animal_type} не вміє говорити\"\n",
    "    \n",
    "    def what_age_as_a_human(self):\n",
    "        if self.animal_type == \"Кіт\":\n",
    "            return self.age * 2\n",
    "        elif self.animal_type == \"Собака\":\n",
    "            return self.age * 3\n",
    "        else:\n",
    "            return f\"Невідомо для {self.animal_type}\"\n",
    "    \n",
    "    def how_long_to_live(self):\n",
    "        if self.animal_type == \"Кіт\":\n",
    "            return 16 - self.age\n",
    "        elif self.animal_type == \"Собака\":\n",
    "            return 22 - self.age\n",
    "        else:\n",
    "            return f\"Невідомо скільки живуть {self.animal_type}\"\n",
    "\n",
    "\n",
    "a1 = MyAnimals(\"Cобака\", \"Барбос\")\n",
    "a2 = MyAnimals(\"Кіт\", \"Рижик\", 1)\n",
    "\n",
    "print(a1.speak(), \"||||\", a2.speak())\n",
    "\n",
    "print(f\"Якби моя тваринка {a2.animal_type} була людиною їй було б: { a2.what_age_as_a_human()} років і вона б ще жила {a2.how_long_to_live()} років\")\n",
    "\n",
    "## Різниця між селф\n",
    "print(MyAnimals.speak(a1))\n",
    "print(a1.speak())"
   ]
  },
  {
   "cell_type": "markdown",
   "metadata": {},
   "source": [
    "Змінні класу"
   ]
  },
  {
   "cell_type": "code",
   "execution_count": 6,
   "metadata": {},
   "outputs": [
    {
     "name": "stdout",
     "output_type": "stream",
     "text": [
      "В мене є тваринки [] їх кількість 0\n",
      "В мене є тваринки {'Кіт', 'Мишка', 'Собака'} їх кількість 4\n",
      "Я доступаюсь до кількості тварин з класу 4 та з обєкту Собака = 25, Кіт = 100\n"
     ]
    }
   ],
   "source": [
    "class MyAnimals:\n",
    "    total_animals = 0\n",
    "    total_animal_types = set()\n",
    "\n",
    "    def __init__(self, an_t, name, age = None) -> None:\n",
    "        self.animal_type = an_t \n",
    "        self.name = name\n",
    "        self.age = \">> Не знаю їх вік <<\" if age == None else age\n",
    "        MyAnimals.total_animals += 1\n",
    "        MyAnimals.total_animal_types.add(an_t)\n",
    "\n",
    "print(f\"В мене є тваринки {list(MyAnimals.total_animal_types)} їх кількість {MyAnimals.total_animals}\")\n",
    "\n",
    "a1 = MyAnimals(\"Собака\", \"Мая\")\n",
    "a2 = MyAnimals(\"Мишка\", \"Зірка\")\n",
    "a3 = MyAnimals(\"Кіт\", \"Буся\")\n",
    "a4 = MyAnimals(\"Кіт\", \"Мявчик\")\n",
    "\n",
    "print(f\"В мене є тваринки {MyAnimals.total_animal_types} їх кількість {MyAnimals.total_animals}\")\n",
    "\n",
    "\n",
    "a1.total_animals = 25\n",
    "\n",
    "a3.total_animals = 100 # Це вже не класова змінна це динамічний атрибут обєкту\n",
    "\n",
    "print(f\"Я доступаюсь до кількості тварин з класу {MyAnimals.total_animals} та з обєкту {a1.animal_type} = {a1.total_animals}, {a3.animal_type} = {a3.total_animals}\")"
   ]
  },
  {
   "cell_type": "markdown",
   "metadata": {},
   "source": [
    "Методи та статичні методи"
   ]
  },
  {
   "cell_type": "code",
   "execution_count": 7,
   "metadata": {},
   "outputs": [
    {
     "name": "stdout",
     "output_type": "stream",
     "text": [
      "Я даю команду голос Собака: Собака каже Гав\n",
      "Я даю команду голос Собака: Мишка не вміє говорити\n",
      "Виклике статичного методу з класу Тваринка поїла! Ми її нагодували! та виклик з обєкту Тваринка поїла! Ми її нагодували!\n"
     ]
    }
   ],
   "source": [
    "class MyAnimals:\n",
    "    def __init__(self, an_t, name) -> None:\n",
    "        \"\"\"Викликаємо конструктор.\n",
    "        \n",
    "        Parameters:\n",
    "            an_t: Тип тваринки;\n",
    "            name: Імя моєї тваринки; \n",
    "\n",
    "        return: None;\n",
    "        \"\"\"\n",
    "        self.animal_type = an_t \n",
    "        self.name = name\n",
    "\n",
    "    def speak(self):\n",
    "        if self.animal_type == \"Кіт\":\n",
    "            return \"Кіт каже Мяув\"\n",
    "        elif self.animal_type == \"Собака\":\n",
    "            return \"Собака каже Гав\"\n",
    "        else:\n",
    "            return f\"{self.animal_type} не вміє говорити\"\n",
    "    \n",
    "    @staticmethod\n",
    "    def eat() -> str:\n",
    "        \"\"\"Ми годуємо тваринку.\n",
    "        Parameters: Ніяких параметрів передвати не потрібно;\n",
    "\n",
    "        return: Повідомлення чи тваринка поїла;\n",
    "        \"\"\"\n",
    "        return \"Тваринка поїла! Ми її нагодували!\"\n",
    "\n",
    "a1 = MyAnimals(\"Собака\", \"Мая\")\n",
    "print(f\"Я даю команду голос {a1.animal_type}: {a1.speak()}\")\n",
    "print(f\"Я даю команду голос {a1.animal_type}: {MyAnimals.speak(a2)}\")\n",
    "\n",
    "print(f\"Виклике статичного методу з класу {MyAnimals.eat()} та виклик з обєкту {a1.eat()}\")"
   ]
  },
  {
   "cell_type": "markdown",
   "metadata": {},
   "source": [
    "Розглядаємо Властивості"
   ]
  },
  {
   "cell_type": "code",
   "execution_count": 8,
   "metadata": {},
   "outputs": [
    {
     "name": "stdout",
     "output_type": "stream",
     "text": [
      "Я маю Собака, звати Мая, принесла мені палку: Моя Собака принесла мячик 1\n",
      "Я маю Собака, звати Мая, принесла мені палку: Моя Собака принесла мячик 2\n"
     ]
    }
   ],
   "source": [
    "class MyAnimals:\n",
    "    def __init__(self, type, name) -> None:\n",
    "        self.animal_type = type\n",
    "        self.name = name\n",
    "        self.actions = 0\n",
    "\n",
    "    @property\n",
    "    def bring_branch(self):\n",
    "        self.actions += 1\n",
    "        return f\"Моя {self.animal_type} принесла мячик {self.actions}\"\n",
    "\n",
    "\n",
    "a1 = MyAnimals(\"Собака\", \"Мая\")\n",
    "\n",
    "for _ in range(2):\n",
    "    print(f\"Я маю {a1.animal_type}, звати {a1.name}, принесла мені палку: {a1.bring_branch}\")"
   ]
  },
  {
   "cell_type": "markdown",
   "metadata": {},
   "source": [
    "Класові методи"
   ]
  },
  {
   "cell_type": "code",
   "execution_count": 9,
   "metadata": {},
   "outputs": [
    {
     "name": "stdout",
     "output_type": "stream",
     "text": [
      "Моя тваринка Мая під номером 1\n",
      "Моя тваринка Зірка під номером 2\n",
      "Моя тваринка Буся під номером 3\n",
      "Моя тваринка Гаррі під номером 4\n"
     ]
    },
    {
     "ename": "AttributeError",
     "evalue": "'MyAnimals' object has no attribute 'planned'",
     "output_type": "error",
     "traceback": [
      "\u001b[1;31m---------------------------------------------------------------------------\u001b[0m",
      "\u001b[1;31mAttributeError\u001b[0m                            Traceback (most recent call last)",
      "Cell \u001b[1;32mIn [9], line 26\u001b[0m\n\u001b[0;32m     23\u001b[0m \u001b[39mprint\u001b[39m(\u001b[39mf\u001b[39m\u001b[39m\"\u001b[39m\u001b[39mМоя тваринка \u001b[39m\u001b[39m{\u001b[39;00ma4\u001b[39m.\u001b[39mname\u001b[39m}\u001b[39;00m\u001b[39m під номером \u001b[39m\u001b[39m{\u001b[39;00ma4\u001b[39m.\u001b[39mid\u001b[39m}\u001b[39;00m\u001b[39m\"\u001b[39m)\n\u001b[0;32m     24\u001b[0m \u001b[39m#print(f\"Моя тваринка {a3.name} під номером {a3.id}\")\u001b[39;00m\n\u001b[1;32m---> 26\u001b[0m a2\u001b[39m.\u001b[39;49mplanned\n",
      "\u001b[1;31mAttributeError\u001b[0m: 'MyAnimals' object has no attribute 'planned'"
     ]
    }
   ],
   "source": [
    "class MyAnimals:\n",
    "    counter = 0\n",
    "    def __init__(self, type, name) -> None:\n",
    "        self.animal_type = type\n",
    "        self.name = name\n",
    "        MyAnimals.counter += 1\n",
    "        self.id = MyAnimals.counter\n",
    "\n",
    "    @classmethod\n",
    "    def plan_to_buy_animal(clc):\n",
    "        clc.planned = True\n",
    "        return clc(\"Невідомо\", \"Ще не дано\")\n",
    "\n",
    "a1 = MyAnimals(\"Собака\", \"Мая\")\n",
    "a2 = MyAnimals(\"Мишка\", \"Зірка\")\n",
    "a3 = MyAnimals(\"Кіт\", \"Буся\")\n",
    "a4 = MyAnimals(\"Хомяк\", \"Гаррі\")\n",
    "#a3 = MyAnimals.plan_to_buy_animal()\n",
    "\n",
    "print(f\"Моя тваринка {a1.name} під номером {a1.id}\")\n",
    "print(f\"Моя тваринка {a2.name} під номером {a2.id}\")\n",
    "print(f\"Моя тваринка {a3.name} під номером {a3.id}\")\n",
    "print(f\"Моя тваринка {a4.name} під номером {a4.id}\")\n",
    "#print(f\"Моя тваринка {a3.name} під номером {a3.id}\")\n",
    "\n",
    "a2.planned"
   ]
  },
  {
   "cell_type": "markdown",
   "metadata": {},
   "source": [
    "Приватні атрибути та методи"
   ]
  },
  {
   "cell_type": "code",
   "execution_count": 10,
   "metadata": {},
   "outputs": [
    {
     "name": "stdout",
     "output_type": "stream",
     "text": [
      "Це атрибут має бути приватним\n",
      "Я змінив приватний атрибут\n",
      "Повертаю приватнний атрибут: Сюди ми доступитись не можемо!\n",
      "Сюди ми доступитись не можемо!\n",
      "Цей метод має викликатись тільки всередині класу\n",
      "Цей метод має викликатись тільки всередині класу та Цей метод неможливо викликати ззовні!\n",
      "<__main__.MyAnimals object at 0x000001FFCF2B4A60>\n"
     ]
    }
   ],
   "source": [
    "class MyAnimals:\n",
    "    def __init__(self, type, name, age) -> None:\n",
    "        self.animal_type = type\n",
    "        self.name = name\n",
    "        self.age = age\n",
    "        self._private = \"Це атрибут має бути приватним\"\n",
    "        self.__private = \"Сюди ми доступитись не можемо!\"\n",
    "    \n",
    "    @property\n",
    "    def private(self):\n",
    "        return f\"Повертаю приватнний атрибут: {self.__private}\"\n",
    "\n",
    "    def _this_is_private(self):\n",
    "        return \"Цей метод має викликатись тільки всередині класу\"\n",
    "    \n",
    "    def __do_not_touch_it(self):\n",
    "        return \"Цей метод неможливо викликати ззовні!\"\n",
    "\n",
    "    def print_private(self):\n",
    "        return f\"{self._this_is_private()} та {self.__do_not_touch_it()}\"\n",
    "\n",
    "\n",
    "a1 = MyAnimals(\"Собака\", \"Барбос\", 2)\n",
    "print(a1._private)\n",
    "a1._private = \"Я змінив приватний атрибут\" ### так робити не можна\n",
    "print(a1._private)\n",
    "#print(a1.__private) ## Це видасть помилку\n",
    "\n",
    "print(a1.private)\n",
    "## a1.private = \"Я міняю проперті!\" ## Це видасть помилку\n",
    "\n",
    "print(a1._MyAnimals__private) ## Так робити не можна\n",
    "\n",
    "print(a1._this_is_private())\n",
    "\n",
    "#print(a1.__do_not_touch_it()) ## Це видасть помилку\n",
    "\n",
    "print(a1.print_private())\n",
    "\n",
    "print(a1)"
   ]
  },
  {
   "cell_type": "markdown",
   "metadata": {},
   "source": [
    "Представлення обєктів класу, та магічні методи"
   ]
  },
  {
   "cell_type": "code",
   "execution_count": 13,
   "metadata": {},
   "outputs": [
    {
     "name": "stdout",
     "output_type": "stream",
     "text": [
      "Це мій обєкт MyAnimals(\"Собака\", \"Мая\", 1)\n",
      "MyAnimals(\"Собака\", \"Мая\", 1)\n"
     ]
    }
   ],
   "source": [
    "class MyAnimals:\n",
    "    def __init__(self, type, name, age) -> None:\n",
    "        self.animal_type = type\n",
    "        self.name = name\n",
    "        self.age = age\n",
    "\n",
    "    def __repr__(self) -> str:\n",
    "        return f'MyAnimals(\"{self.animal_type}\", \"{self.name}\", {self.age})'\n",
    "\n",
    "    def __str__(self) -> str:\n",
    "        return f\"Це мій обєкт {self.__repr__()}\"\n",
    "\n",
    "a1 = MyAnimals(\"Собака\", \"Мая\", 1)\n",
    "print(a1)\n",
    "print(repr(a1))"
   ]
  },
  {
   "cell_type": "markdown",
   "metadata": {},
   "source": [
    "Магічні методи та арифметичні операції"
   ]
  },
  {
   "cell_type": "code",
   "execution_count": 14,
   "metadata": {},
   "outputs": [
    {
     "name": "stdout",
     "output_type": "stream",
     "text": [
      "3 2 -1\n",
      "3 2 -1\n",
      "Наш Мая покусав Буся\n",
      "Мій Мая зїв 2 пачки корму, ще має зїсти 0\n",
      "<class 'NotImplementedError'>\n",
      "Ні Мая не їсть більше!\n"
     ]
    }
   ],
   "source": [
    "a = int(1)\n",
    "b = 2\n",
    "\n",
    "print(a + b, a * b, a - b)\n",
    "print(a.__add__(b), a.__mul__(b), a.__sub__(b))\n",
    "\n",
    "class MyAnimals:\n",
    "    def __init__(self, type, name, eat) -> None:\n",
    "        self.animal_type = type\n",
    "        self.name = name\n",
    "        self.eat = eat\n",
    "\n",
    "    def __sub__(self, obj):\n",
    "        if isinstance(obj, MyAnimals):\n",
    "            return f\"Наш {self.name} покусав {obj.name}\"\n",
    "        elif isinstance(obj, int):\n",
    "            self.eat -= obj\n",
    "            return f\"Мій {self.name} зїв {obj} пачки корму, ще має зїсти {self.eat}\"\n",
    "        return NotImplementedError\n",
    "    \n",
    "    def __gt__(self, obj):\n",
    "        if isinstance(obj, MyAnimals):\n",
    "            if self.eat > obj.eat:\n",
    "                return f\"{self.name} зїдає більше ніж {obj.name}\"\n",
    "            return f\"Ні {self.name} не їсть більше!\"\n",
    "        return NotImplementedError\n",
    "\n",
    "\n",
    "a = MyAnimals(\"Собака\", \"Мая\", 2)\n",
    "b = MyAnimals(\"Кіт\", \"Буся\", 4)\n",
    "\n",
    "print(a - b)\n",
    "print(a - 2)\n",
    "print(a - str(\"Їсти!\"))\n",
    "\n",
    "print(a > b)"
   ]
  },
  {
   "cell_type": "markdown",
   "metadata": {},
   "source": [
    "Пояснення декораторів"
   ]
  },
  {
   "cell_type": "code",
   "execution_count": 15,
   "metadata": {},
   "outputs": [
    {
     "name": "stdout",
     "output_type": "stream",
     "text": [
      "Враппер\n",
      "Whee!\n",
      "Кінець Враппера\n",
      "None\n"
     ]
    }
   ],
   "source": [
    "def decorator_example(fun):\n",
    "    def wrapper():\n",
    "        print(\"Враппер\")\n",
    "        fun()\n",
    "        print(\"Кінець Враппера\")\n",
    "    return wrapper\n",
    "\n",
    "def say_whee():\n",
    "    print(\"Whee!\")\n",
    "\n",
    "a = decorator_example(say_whee)\n",
    "print(a())"
   ]
  }
 ],
 "metadata": {
  "kernelspec": {
   "display_name": "Python 3.10.6 64-bit",
   "language": "python",
   "name": "python3"
  },
  "language_info": {
   "codemirror_mode": {
    "name": "ipython",
    "version": 3
   },
   "file_extension": ".py",
   "mimetype": "text/x-python",
   "name": "python",
   "nbconvert_exporter": "python",
   "pygments_lexer": "ipython3",
   "version": "3.10.6"
  },
  "orig_nbformat": 4,
  "vscode": {
   "interpreter": {
    "hash": "6ef694b4dbddfc11dfa47724275a290eb95e4b5edd1a06cb6f42d64c2e7f5df6"
   }
  }
 },
 "nbformat": 4,
 "nbformat_minor": 2
}
